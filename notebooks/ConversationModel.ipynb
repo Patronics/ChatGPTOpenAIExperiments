{
 "cells": [
  {
   "cell_type": "markdown",
   "metadata": {},
   "source": [
    "# ConversationModel\n",
    "\n",
    "This notebook trains a GPT-2 model on a dataset of conversations and generates responses to user input.\n",
    "\n",
    "The dataset is a text file with one conversation per line, in the format:\n",
    "\n",
    "```\n",
    "User: Hi there! How's it going?\n",
    "Bot: Hey there! I'm just a computer program, so I don't really have feelings. But I'm functioning properly if that's what you're asking.\n",
    "```"
   ]
  },
  {
   "cell_type": "markdown",
   "metadata": {},
   "source": [
    "## Setup\n",
    "\n",
    "First, let's install the required packages and download the GPT-2 model. This may take a few minutes."
   ]
  },
  {
   "cell_type": "code",
   "execution_count": 1,
   "metadata": {
    "collapsed": true
   },
   "outputs": [],
   "source": [
    "!pip install openai"
   ]
  },
  {
   "cell_type": "code",
   "execution_count": 2,
   "metadata": {
    "collapsed": true
   },
   "outputs": [],
   "source": [
    "import openai\n",
    "openai.api_key = \"YOUR_API_KEY\"\n",
    "\n",
    "model_engine = \"davinci\"\n",
    "model_version = \"2020-09-01\"\n",
    "\n",
    "openai.download_model(model_engine, model_version)"
   ]
  },
  {
   "cell_type": "markdown",
   "metadata": {},
   "source": [
    "## Data preparation\n",
    "\n",
    "Next, let's load the dataset and preprocess it."
   ]
  },
  {
   "cell_type": "code",
   "execution_count": 3,
   "metadata": {
    "collapsed": true
   },
   "outputs": [],
   "source": [
    "import os\n",
    "import re\n",
    "\n",
    "def load_data(filename):\n",
    "    conversations = []\n",
    "    with open(filename, \"r\") as f:\n",
    "        lines = f.readlines()\n",
    "    conversation = []\n",
    "    for line in lines:\n",
    "        if line.strip() == \"\":\n",
    "            if len(conversation) > 0:\n",
    "                conversations.append(conversation)\n",
    "                conversation = []\n",
    "        else:\n",
    "            conversation.append(line.strip())\n",
    "   
